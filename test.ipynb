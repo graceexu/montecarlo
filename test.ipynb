import pandas as pd
from darts import TimeSeries
from darts.models import RNNModel, LSTMModel, TransformerModel
from darts.metrics import mape, rmse, mae
from sklearn.preprocessing import LabelEncoder
import matplotlib.pyplot as plt

# Load and prepare your data
# Assuming df_agg_daily is already prepared and cleaned
df_agg_daily = pd.read_csv("path_to_your_data.csv")  # Replace with your actual data path
df_agg_daily['date'] = pd.to_datetime(df_agg_daily['date'])
df_agg_daily.set_index('date', inplace=True)

# Encode 'lob_level_1' and 'ir_type' as categorical features
label_encoder_lob = LabelEncoder()
label_encoder_ir_type = LabelEncoder()
df_agg_daily['lob_level_1_encoded'] = label_encoder_lob.fit_transform(df_agg_daily['lob_level_1'])
df_agg_daily['ir_type_encoded'] = label_encoder_ir_type.fit_transform(df_agg_daily['ir_type'])

# Ensure all features are numeric
features = ['count', 'year', 'month', 'day_of_week_sin', 'day_of_week_cos', 'month_sin', 'month_cos']
df_agg_daily[features] = df_agg_daily[features].apply(pd.to_numeric, errors='coerce')

# Convert to Darts TimeSeries
series = TimeSeries.from_dataframe(df_agg_daily, 'date', 'count')
feature_series = TimeSeries.from_dataframe(df_agg_daily, 'date', features)

# Split data into training and testing sets
train, test = series.split_before(pd.Timestamp("2023-01-01"))
train_features, test_features = feature_series.split_before(pd.Timestamp("2023-01-01"))

# Define the models
rnn_model = RNNModel(input_chunk_length=12, output_chunk_length=6, n_rnn_layers=2, model="RNN", random_state=42)
lstm_model = LSTMModel(input_chunk_length=12, output_chunk_length=6, n_rnn_layers=2, random_state=42)
transformer_model = TransformerModel(input_chunk_length=12, output_chunk_length=6, random_state=42)

# Train the models
rnn_model.fit([train], future_covariates=[train_features], epochs=100)
lstm_model.fit([train], future_covariates=[train_features], epochs=100)
transformer_model.fit([train], future_covariates=[train_features], epochs=100)

# Predict
rnn_forecast = rnn_model.predict(n=len(test), future_covariates=test_features)
lstm_forecast = lstm_model.predict(n=len(test), future_covariates=test_features)
transformer_forecast = transformer_model.predict(n=len(test), future_covariates=test_features)

# Collect metrics
metrics = {
    "Model": ["RNN", "LSTM", "Transformer"],
    "MAPE": [
        mape(test, rnn_forecast),
        mape(test, lstm_forecast),
        mape(test, transformer_forecast)
    ],
    "RMSE": [
        rmse(test, rnn_forecast),
        rmse(test, lstm_forecast),
        rmse(test, transformer_forecast)
    ],
    "MAE": [
        mae(test, rnn_forecast),
        mae(test, lstm_forecast),
        mae(test, transformer_forecast)
    ]
}
metrics_df = pd.DataFrame(metrics)

# Collect forecasts
forecasts_df = pd.DataFrame({
    "Date": test.time_index,
    "Actual": test.values().flatten(),
    "RNN_Forecast": rnn_forecast.values().flatten(),
    "LSTM_Forecast": lstm_forecast.values().flatten(),
    "Transformer_Forecast": transformer_forecast.values().flatten()
})

# Print metrics
print(metrics_df)

# Plot forecasts
plt.figure(figsize=(10, 6))
series.plot(label="Actual")
rnn_forecast.plot(label="RNN Forecast")
lstm_forecast.plot(label="LSTM Forecast")
transformer_forecast.plot(label="Transformer Forecast")
plt.legend()
plt.show()
